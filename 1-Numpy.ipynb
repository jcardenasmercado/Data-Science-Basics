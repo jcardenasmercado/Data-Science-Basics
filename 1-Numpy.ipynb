{
 "cells": [
  {
   "cell_type": "markdown",
   "metadata": {},
   "source": [
    "# NUMPY BASICS"
   ]
  },
  {
   "cell_type": "code",
   "execution_count": 1,
   "metadata": {},
   "outputs": [],
   "source": [
    "import numpy as np"
   ]
  },
  {
   "cell_type": "markdown",
   "metadata": {},
   "source": [
    "###  Numpy Arrays"
   ]
  },
  {
   "cell_type": "code",
   "execution_count": 5,
   "metadata": {},
   "outputs": [
    {
     "data": {
      "text/plain": [
       "array([1, 2, 3, 7])"
      ]
     },
     "execution_count": 5,
     "metadata": {},
     "output_type": "execute_result"
    }
   ],
   "source": [
    "# Transformando una python list en numpy array\n",
    "\n",
    "mi_lista = [1, 2, 3, 7]\n",
    "\n",
    "np.array(mi_lista)"
   ]
  },
  {
   "cell_type": "code",
   "execution_count": 7,
   "metadata": {},
   "outputs": [
    {
     "data": {
      "text/plain": [
       "[[1, 2, 3], [4, 5, 6], [7, 8, 9]]"
      ]
     },
     "execution_count": 7,
     "metadata": {},
     "output_type": "execute_result"
    }
   ],
   "source": [
    "# Transformando una matriz definida como lista de listas en el formato np.array\n",
    "\n",
    "# PYTHON [LISTA[LISTA]]\n",
    "\n",
    "A = [[1,2,3], [4,5,6], [7,8,9]]\n",
    "A"
   ]
  },
  {
   "cell_type": "code",
   "execution_count": 8,
   "metadata": {},
   "outputs": [
    {
     "data": {
      "text/plain": [
       "array([[1, 2, 3],\n",
       "       [4, 5, 6],\n",
       "       [7, 8, 9]])"
      ]
     },
     "execution_count": 8,
     "metadata": {},
     "output_type": "execute_result"
    }
   ],
   "source": [
    "# NUMPY ARRAY([LISTA[LISTA]])\n",
    "\n",
    "np.array(A)"
   ]
  },
  {
   "cell_type": "markdown",
   "metadata": {},
   "source": [
    "#### Es conveniente usar un np.array en lugar de una lista por la eficiencia que estas tienen en uso de memoria y tiempos de ejecución. \n",
    "\n",
    "### Numpy Built-in Methods "
   ]
  },
  {
   "cell_type": "code",
   "execution_count": 29,
   "metadata": {},
   "outputs": [
    {
     "name": "stdout",
     "output_type": "stream",
     "text": [
      "[0 1 2 3 4]\n",
      "\n",
      "--------------\n",
      "\n",
      "[ 0  2  4  6  8 10]\n"
     ]
    }
   ],
   "source": [
    "\"\"\" \n",
    "    Arange:\n",
    "        np.arange(inicial, final, paso(default=1)) \n",
    "        \n",
    "        retornará un array de tamaño(final)     \n",
    "        de la forma: \n",
    "            array([inicial, inicial+paso, ..., final-1])\n",
    "\"\"\"\n",
    "# Forma básica\n",
    "\n",
    "print(np.arange(0,5))\n",
    "\n",
    "print(\"\\n--------------\\n\")\n",
    "\n",
    "# desde 0 a 10 con paso 2\n",
    "\n",
    "print(np.arange(0, 12, 2))"
   ]
  },
  {
   "cell_type": "code",
   "execution_count": 37,
   "metadata": {},
   "outputs": [
    {
     "name": "stdout",
     "output_type": "stream",
     "text": [
      "[0. 0. 0.]\n",
      "\n",
      "--------------\n",
      "\n",
      "[[0. 0. 0.]\n",
      " [0. 0. 0.]\n",
      " [0. 0. 0.]]\n",
      "\n",
      "--------------\n",
      "\n",
      "[1. 1. 1.]\n",
      "\n",
      "--------------\n",
      "\n",
      "[[1. 1. 1.]\n",
      " [1. 1. 1.]\n",
      " [1. 1. 1.]]\n",
      "\n",
      "--------------\n",
      "\n",
      "[[9. 9. 9. 9.]\n",
      " [9. 9. 9. 9.]\n",
      " [9. 9. 9. 9.]\n",
      " [9. 9. 9. 9.]]\n"
     ]
    }
   ],
   "source": [
    "\"\"\"\n",
    "    zeros, ones:\n",
    "        np.zeros(n)\n",
    "        \n",
    "        retornará un array de dimension(n), tamaño(ñ) con ceros\n",
    "        np.ones(n) cumple la misma funcion pero en lugar de ceros contrendrá unos.\n",
    "\"\"\"\n",
    "\n",
    "# Algunos ejemplos:\n",
    "\n",
    "# Array con ceros de tamaño 3\n",
    "\n",
    "print(np.zeros(3))\n",
    "\n",
    "print(\"\\n--------------\\n\")\n",
    "\n",
    "# Array con ceros de tamaño 3x3\n",
    "\n",
    "print(np.zeros((3,3)))\n",
    "\n",
    "print(\"\\n--------------\\n\")\n",
    "\n",
    "# Array con unos de tamaño 3\n",
    "\n",
    "print(np.ones(3))\n",
    "\n",
    "print(\"\\n--------------\\n\")\n",
    "\n",
    "# Array con unos de tamaño 3x3\n",
    "\n",
    "print(np.ones((3,3)))\n",
    "\n",
    "print(\"\\n--------------\\n\")\n",
    "\n",
    "# Array con nueves de tamaño 4x4\n",
    "\n",
    "print(np.ones((4,4))*9)"
   ]
  },
  {
   "cell_type": "code",
   "execution_count": 50,
   "metadata": {},
   "outputs": [
    {
     "name": "stdout",
     "output_type": "stream",
     "text": [
      "[ 0.  5. 10.]\n",
      "\n",
      "--------------\n",
      "\n",
      "[  0.           1.69491525   3.38983051   5.08474576   6.77966102\n",
      "   8.47457627  10.16949153  11.86440678  13.55932203  15.25423729\n",
      "  16.94915254  18.6440678   20.33898305  22.03389831  23.72881356\n",
      "  25.42372881  27.11864407  28.81355932  30.50847458  32.20338983\n",
      "  33.89830508  35.59322034  37.28813559  38.98305085  40.6779661\n",
      "  42.37288136  44.06779661  45.76271186  47.45762712  49.15254237\n",
      "  50.84745763  52.54237288  54.23728814  55.93220339  57.62711864\n",
      "  59.3220339   61.01694915  62.71186441  64.40677966  66.10169492\n",
      "  67.79661017  69.49152542  71.18644068  72.88135593  74.57627119\n",
      "  76.27118644  77.96610169  79.66101695  81.3559322   83.05084746\n",
      "  84.74576271  86.44067797  88.13559322  89.83050847  91.52542373\n",
      "  93.22033898  94.91525424  96.61016949  98.30508475 100.        ]\n"
     ]
    }
   ],
   "source": [
    "\"\"\"\n",
    "    Linspace:\n",
    "        np.linspace(inicial, final, n)\n",
    "        \n",
    "        retorna n números espaciados uniformemente dentro del intervalo [inicio, final]\n",
    "\"\"\"\n",
    "\n",
    "# Algunos ejemplos:\n",
    "\n",
    "# 3 numeros uniformemente separados entre 0 y 10\n",
    "\n",
    "print(np.linspace(0, 10, 3))\n",
    "\n",
    "print(\"\\n--------------\\n\")\n",
    "\n",
    "# 60 numeros uniformemente separados entre 0 y 100\n",
    "\n",
    "print(np.linspace(0, 100, 60))"
   ]
  },
  {
   "cell_type": "code",
   "execution_count": 54,
   "metadata": {},
   "outputs": [
    {
     "data": {
      "text/plain": [
       "array([[1., 0., 0., 0., 0., 0., 0., 0., 0., 0.],\n",
       "       [0., 1., 0., 0., 0., 0., 0., 0., 0., 0.],\n",
       "       [0., 0., 1., 0., 0., 0., 0., 0., 0., 0.],\n",
       "       [0., 0., 0., 1., 0., 0., 0., 0., 0., 0.],\n",
       "       [0., 0., 0., 0., 1., 0., 0., 0., 0., 0.],\n",
       "       [0., 0., 0., 0., 0., 1., 0., 0., 0., 0.],\n",
       "       [0., 0., 0., 0., 0., 0., 1., 0., 0., 0.],\n",
       "       [0., 0., 0., 0., 0., 0., 0., 1., 0., 0.],\n",
       "       [0., 0., 0., 0., 0., 0., 0., 0., 1., 0.],\n",
       "       [0., 0., 0., 0., 0., 0., 0., 0., 0., 1.]])"
      ]
     },
     "execution_count": 54,
     "metadata": {},
     "output_type": "execute_result"
    }
   ],
   "source": [
    "\"\"\"\n",
    "    Eye:\n",
    "        np.eye(n)\n",
    "        \n",
    "        crea una matriz identidad (con unos en la diagonal y ceros en las demas posiciones) de la forma NxN \n",
    "\"\"\"\n",
    "\n",
    "np.eye(10)"
   ]
  },
  {
   "cell_type": "code",
   "execution_count": 56,
   "metadata": {},
   "outputs": [
    {
     "name": "stdout",
     "output_type": "stream",
     "text": [
      "[0.76965325 0.55191821 0.06950291 0.76199984 0.7324529  0.70684412\n",
      " 0.98225314 0.904108   0.11617993 0.34265343 0.56980274 0.8338544\n",
      " 0.134091   0.07058832 0.95412654 0.26518807 0.52188929 0.78596959\n",
      " 0.3093543  0.40083342]\n",
      "\n",
      "--------------\n",
      "\n",
      "[[0.12973736 0.92913472 0.50166797 0.77010166]\n",
      " [0.40822338 0.24785845 0.01729589 0.18654008]\n",
      " [0.41070752 0.4312074  0.59165821 0.32542783]\n",
      " [0.5025657  0.58209271 0.61406556 0.03043362]]\n"
     ]
    }
   ],
   "source": [
    "\"\"\"\n",
    "    Rand:\n",
    "        np.random.rand(n)\n",
    "        \n",
    "        Crea un array de tamaño n con numeros al azar dentro de una distribución uniforme entre 0 y 1.\n",
    "\"\"\"\n",
    "\n",
    "# Algunos ejemplos:\n",
    "\n",
    "# un array con 20 numeros al azar dentro de la distribución uniforme entre 0 y 1.\n",
    "\n",
    "print(np.random.rand(20))\n",
    "\n",
    "print(\"\\n--------------\\n\")\n",
    "\n",
    "# una matriz de 4x4 con 16 numeros al azar dentro de la distribución uniforme entre 0 y 1.\n",
    "\n",
    "print(np.random.rand(4,4))"
   ]
  },
  {
   "cell_type": "markdown",
   "metadata": {},
   "source": [
    "### Distribución normal estandar\n",
    "***\n",
    "## $\\varphi (x) = \\frac{e^-{\\frac{x^{2}}{2}}}{\\sqrt{2\\Pi}}$"
   ]
  },
  {
   "cell_type": "code",
   "execution_count": 62,
   "metadata": {},
   "outputs": [
    {
     "name": "stdout",
     "output_type": "stream",
     "text": [
      "[ 0.55715251  0.19854521 -1.05758291  1.47794725]\n",
      "\n",
      "--------------\n",
      "\n",
      "[[-0.17727521  0.85888876]\n",
      " [ 1.01862104  0.49923527]]\n"
     ]
    }
   ],
   "source": [
    "\"\"\"\n",
    "    Randn:\n",
    "        np.random.randn(n)\n",
    "        \n",
    "        crea un array de tamaño n con muestras de la distribución normal estandar\n",
    "\"\"\"\n",
    "\n",
    "# Algunos ejemplos:\n",
    "\n",
    "# 4 muestras de la distribución normal estandar\n",
    "\n",
    "print(np.random.randn(4))\n",
    "\n",
    "print(\"\\n--------------\\n\")\n",
    "\n",
    "# una matriz de la forma 2x2 con 4 muestras de la distribución normal estandar\n",
    "\n",
    "print(np.random.randn(2,2))\n",
    "\n"
   ]
  },
  {
   "cell_type": "code",
   "execution_count": 64,
   "metadata": {},
   "outputs": [
    {
     "name": "stdout",
     "output_type": "stream",
     "text": [
      "3\n",
      "\n",
      "--------------\n",
      "\n",
      "[57 72 73 38 73 65 46 79 40 50 70 77 56 79 51 61 78 46 39 37]\n"
     ]
    }
   ],
   "source": [
    "\"\"\"\n",
    "    Randint:\n",
    "        np.random.randint(I, F, N)\n",
    "        \n",
    "        retorna N(por defecto 1) valores aleatorios enteros entre I y F\n",
    "\"\"\"\n",
    "\n",
    "# Algunos ejemplos:\n",
    "\n",
    "# Un número entero entre 2 y 9\n",
    "\n",
    "print(np.random.randint(2,9))\n",
    "\n",
    "print(\"\\n--------------\\n\")\n",
    "\n",
    "# 20 números enteros entre 35 y 80\n",
    "\n",
    "print(np.random.randint(35,80,20))\n"
   ]
  },
  {
   "cell_type": "markdown",
   "metadata": {},
   "source": [
    "## Algunas operaciones matemáticas:\n",
    "***"
   ]
  },
  {
   "cell_type": "code",
   "execution_count": 72,
   "metadata": {},
   "outputs": [
    {
     "name": "stdout",
     "output_type": "stream",
     "text": [
      "4.898979485566356\n",
      "\n",
      "--------------\n",
      "\n",
      "24\n",
      "\n",
      "--------------\n",
      "\n",
      "-0.9055783620066238\n",
      "\n",
      "--------------\n",
      "\n",
      "0.424179007336997\n",
      "\n",
      "--------------\n",
      "\n",
      "0.9999999999999999\n",
      "\n",
      "--------------\n",
      "\n",
      "-2.1348966977217008\n",
      "\n",
      "--------------\n",
      "\n",
      "4.584962500721156\n",
      "\n",
      "--------------\n",
      "\n",
      "26489122129.84347\n"
     ]
    }
   ],
   "source": [
    "x = 24\n",
    "\n",
    "# Raiz cuadrada de x\n",
    "print(np.sqrt(x))\n",
    "\n",
    "print(\"\\n--------------\\n\")\n",
    "\n",
    "# Valor absoluto de x\n",
    "print(np.absolute(x))\n",
    "\n",
    "print(\"\\n--------------\\n\")\n",
    "\n",
    "# Seno de x\n",
    "print(np.sin(x))\n",
    "\n",
    "print(\"\\n--------------\\n\")\n",
    "\n",
    "# Coseno de x\n",
    "print(np.cos(x))\n",
    "\n",
    "print(\"\\n--------------\\n\")\n",
    "# sen(x)^2 + cos(x)^2 = 1 por regla trigonometrica\n",
    "print((np.sin(x)**2) + (np.cos(x)**2))\n",
    "\n",
    "print(\"\\n--------------\\n\")\n",
    "# Tangente de x\n",
    "print(np.tan(x))\n",
    "\n",
    "print(\"\\n--------------\\n\")\n",
    "\n",
    "# Logaritmo en base 2 de x\n",
    "print(np.log2(x))\n",
    "\n",
    "print(\"\\n--------------\\n\")\n",
    "\n",
    "# e^x\n",
    "print(np.exp(x))\n"
   ]
  },
  {
   "cell_type": "markdown",
   "metadata": {},
   "source": [
    "## Arrays: operaciones, indexing y funciones.\n",
    "***"
   ]
  },
  {
   "cell_type": "code",
   "execution_count": 100,
   "metadata": {},
   "outputs": [
    {
     "data": {
      "text/plain": [
       "array([13,  5,  9,  8, 14,  7,  8, 16,  8,  4,  6, 16, 14, 10, 14,  6, 13,\n",
       "       16,  8, 13,  4,  6, 15, 14, 10])"
      ]
     },
     "execution_count": 100,
     "metadata": {},
     "output_type": "execute_result"
    }
   ],
   "source": [
    "# Definiendo un array para testear\n",
    "arr = np.random.randint(1, 20, 25)\n",
    "arr"
   ]
  },
  {
   "cell_type": "code",
   "execution_count": 101,
   "metadata": {},
   "outputs": [
    {
     "data": {
      "text/plain": [
       "(25,)"
      ]
     },
     "execution_count": 101,
     "metadata": {},
     "output_type": "execute_result"
    }
   ],
   "source": [
    "# Shape: sirve para obtener la forma del array\n",
    "arr.shape"
   ]
  },
  {
   "cell_type": "code",
   "execution_count": 102,
   "metadata": {},
   "outputs": [
    {
     "data": {
      "text/plain": [
       "array([[13,  5,  9,  8, 14],\n",
       "       [ 7,  8, 16,  8,  4],\n",
       "       [ 6, 16, 14, 10, 14],\n",
       "       [ 6, 13, 16,  8, 13],\n",
       "       [ 4,  6, 15, 14, 10]])"
      ]
     },
     "execution_count": 102,
     "metadata": {},
     "output_type": "execute_result"
    }
   ],
   "source": [
    "# Reshape: sirve para cambiar la forma del array, en este caso se transforma en una matriz 5x5\n",
    "arr.reshape(5,5)"
   ]
  },
  {
   "cell_type": "code",
   "execution_count": 103,
   "metadata": {},
   "outputs": [
    {
     "data": {
      "text/plain": [
       "dtype('int32')"
      ]
     },
     "execution_count": 103,
     "metadata": {},
     "output_type": "execute_result"
    }
   ],
   "source": [
    "# Dtype: sirve para obtener el tipo de variables que contiene el array\n",
    "arr.dtype"
   ]
  },
  {
   "cell_type": "code",
   "execution_count": 104,
   "metadata": {},
   "outputs": [
    {
     "data": {
      "text/plain": [
       "8"
      ]
     },
     "execution_count": 104,
     "metadata": {},
     "output_type": "execute_result"
    }
   ],
   "source": [
    "# Obteniendo el valor de una posicion especifica del array\n",
    "arr[6]"
   ]
  },
  {
   "cell_type": "code",
   "execution_count": 105,
   "metadata": {},
   "outputs": [
    {
     "data": {
      "text/plain": [
       "array([14,  7,  8, 16,  8])"
      ]
     },
     "execution_count": 105,
     "metadata": {},
     "output_type": "execute_result"
    }
   ],
   "source": [
    "# Obteniendo valores dentro de un rango\n",
    "arr[4:9]"
   ]
  },
  {
   "cell_type": "code",
   "execution_count": 106,
   "metadata": {},
   "outputs": [
    {
     "data": {
      "text/plain": [
       "array([ 3,  3,  3,  8, 14,  7,  8, 16,  8,  4,  6, 16, 14, 10, 14,  6, 13,\n",
       "       16,  8, 13,  4,  6, 15, 14, 10])"
      ]
     },
     "execution_count": 106,
     "metadata": {},
     "output_type": "execute_result"
    }
   ],
   "source": [
    "# Cambiando valores en un rango por un numero determinado\n",
    "arr[0:3]=3\n",
    "arr"
   ]
  },
  {
   "cell_type": "code",
   "execution_count": 107,
   "metadata": {},
   "outputs": [
    {
     "data": {
      "text/plain": [
       "array([3, 3, 3])"
      ]
     },
     "execution_count": 107,
     "metadata": {},
     "output_type": "execute_result"
    }
   ],
   "source": [
    "# Tomando un trozo del array\n",
    "trozo_arr = arr[0:3]\n",
    "trozo_arr"
   ]
  },
  {
   "cell_type": "code",
   "execution_count": 108,
   "metadata": {},
   "outputs": [
    {
     "data": {
      "text/plain": [
       "array([ 3,  3,  3,  8, 14,  7,  8, 16,  8,  4,  6, 16, 14, 10, 14,  6, 13,\n",
       "       16,  8, 13,  4,  6, 15, 14, 10])"
      ]
     },
     "execution_count": 108,
     "metadata": {},
     "output_type": "execute_result"
    }
   ],
   "source": [
    "# copiando un array\n",
    "copia_arr = arr.copy()\n",
    "copia_arr"
   ]
  },
  {
   "cell_type": "markdown",
   "metadata": {},
   "source": [
    "### Indexing en matrizes\n",
    "***"
   ]
  },
  {
   "cell_type": "code",
   "execution_count": 109,
   "metadata": {},
   "outputs": [
    {
     "data": {
      "text/plain": [
       "array([[ 3,  3,  3,  8, 14],\n",
       "       [ 7,  8, 16,  8,  4],\n",
       "       [ 6, 16, 14, 10, 14],\n",
       "       [ 6, 13, 16,  8, 13],\n",
       "       [ 4,  6, 15, 14, 10]])"
      ]
     },
     "execution_count": 109,
     "metadata": {},
     "output_type": "execute_result"
    }
   ],
   "source": [
    "arr_2d = arr.reshape(5,5)\n",
    "arr_2d"
   ]
  },
  {
   "cell_type": "code",
   "execution_count": 110,
   "metadata": {},
   "outputs": [
    {
     "data": {
      "text/plain": [
       "array([ 7,  8, 16,  8,  4])"
      ]
     },
     "execution_count": 110,
     "metadata": {},
     "output_type": "execute_result"
    }
   ],
   "source": [
    "# Seleccionando la segunda fila\n",
    "arr_2d[1]"
   ]
  },
  {
   "cell_type": "code",
   "execution_count": 111,
   "metadata": {},
   "outputs": [
    {
     "data": {
      "text/plain": [
       "array([[ 6,  6,  6, 16, 28],\n",
       "       [ 7,  8, 16,  8,  4],\n",
       "       [ 6, 16, 14, 10, 14],\n",
       "       [ 6, 13, 16,  8, 13],\n",
       "       [ 4,  6, 15, 14, 10]])"
      ]
     },
     "execution_count": 111,
     "metadata": {},
     "output_type": "execute_result"
    }
   ],
   "source": [
    "# Cambiando los valores de una fila completa\n",
    "arr_2d[0] = arr_2d[0]*2\n",
    "arr_2d"
   ]
  },
  {
   "cell_type": "code",
   "execution_count": 112,
   "metadata": {},
   "outputs": [
    {
     "data": {
      "text/plain": [
       "16"
      ]
     },
     "execution_count": 112,
     "metadata": {},
     "output_type": "execute_result"
    }
   ],
   "source": [
    "# Obteniendo un valor especifico de la matriz\n",
    "arr_2d[0][3]"
   ]
  },
  {
   "cell_type": "code",
   "execution_count": 116,
   "metadata": {},
   "outputs": [
    {
     "data": {
      "text/plain": [
       "array([[16, 28],\n",
       "       [ 8,  4]])"
      ]
     },
     "execution_count": 116,
     "metadata": {},
     "output_type": "execute_result"
    }
   ],
   "source": [
    "# Obteniendo un trozo de la matriz\n",
    "arr_2d[:2,3:]"
   ]
  },
  {
   "cell_type": "code",
   "execution_count": 119,
   "metadata": {},
   "outputs": [
    {
     "data": {
      "text/plain": [
       "array([[ 4,  6, 15, 14, 10],\n",
       "       [ 7,  8, 16,  8,  4],\n",
       "       [ 6,  6,  6, 16, 28]])"
      ]
     },
     "execution_count": 119,
     "metadata": {},
     "output_type": "execute_result"
    }
   ],
   "source": [
    "# Obteniendo varias filas de la matriz (Se pueden obtener en el orden que sea)\n",
    "arr_2d[[4,1,0]]"
   ]
  },
  {
   "cell_type": "code",
   "execution_count": 121,
   "metadata": {},
   "outputs": [
    {
     "data": {
      "text/plain": [
       "array([[False, False, False,  True,  True],\n",
       "       [False, False,  True, False, False],\n",
       "       [False,  True,  True, False,  True],\n",
       "       [False,  True,  True, False,  True],\n",
       "       [False, False,  True,  True, False]])"
      ]
     },
     "execution_count": 121,
     "metadata": {},
     "output_type": "execute_result"
    }
   ],
   "source": [
    "# Que celdas de la matriz son mayores que 10?\n",
    "arr_2d > 10"
   ]
  },
  {
   "cell_type": "code",
   "execution_count": 122,
   "metadata": {},
   "outputs": [
    {
     "data": {
      "text/plain": [
       "array([[12, 12, 12, 32, 56],\n",
       "       [14, 16, 32, 16,  8],\n",
       "       [12, 32, 28, 20, 28],\n",
       "       [12, 26, 32, 16, 26],\n",
       "       [ 8, 12, 30, 28, 20]])"
      ]
     },
     "execution_count": 122,
     "metadata": {},
     "output_type": "execute_result"
    }
   ],
   "source": [
    "# Sumando la matriz consigo misma\n",
    "arr_2d = arr_2d+arr_2d\n",
    "arr_2d"
   ]
  },
  {
   "cell_type": "code",
   "execution_count": 123,
   "metadata": {},
   "outputs": [
    {
     "data": {
      "text/plain": [
       "array([[ 144,  144,  144, 1024, 3136],\n",
       "       [ 196,  256, 1024,  256,   64],\n",
       "       [ 144, 1024,  784,  400,  784],\n",
       "       [ 144,  676, 1024,  256,  676],\n",
       "       [  64,  144,  900,  784,  400]])"
      ]
     },
     "execution_count": 123,
     "metadata": {},
     "output_type": "execute_result"
    }
   ],
   "source": [
    "# Multiplicando la matriz consigo misma\n",
    "arr_2d * arr_2d"
   ]
  },
  {
   "cell_type": "code",
   "execution_count": 124,
   "metadata": {},
   "outputs": [
    {
     "data": {
      "text/plain": [
       "array([[0, 0, 0, 0, 0],\n",
       "       [0, 0, 0, 0, 0],\n",
       "       [0, 0, 0, 0, 0],\n",
       "       [0, 0, 0, 0, 0],\n",
       "       [0, 0, 0, 0, 0]])"
      ]
     },
     "execution_count": 124,
     "metadata": {},
     "output_type": "execute_result"
    }
   ],
   "source": [
    "# Restando la matriz consigo misma\n",
    "arr_2d = arr_2d-arr_2d\n",
    "arr_2d"
   ]
  },
  {
   "cell_type": "code",
   "execution_count": 126,
   "metadata": {},
   "outputs": [
    {
     "data": {
      "text/plain": [
       "array([[6, 6, 6, 6, 6],\n",
       "       [6, 6, 6, 6, 6],\n",
       "       [6, 6, 6, 6, 6],\n",
       "       [6, 6, 6, 6, 6],\n",
       "       [6, 6, 6, 6, 6]])"
      ]
     },
     "execution_count": 126,
     "metadata": {},
     "output_type": "execute_result"
    }
   ],
   "source": [
    "# Sumando un escalar a la matriz\n",
    "arr_2d = arr_2d+6\n",
    "arr_2d"
   ]
  },
  {
   "cell_type": "code",
   "execution_count": 127,
   "metadata": {},
   "outputs": [
    {
     "data": {
      "text/plain": [
       "array([[7776, 7776, 7776, 7776, 7776],\n",
       "       [7776, 7776, 7776, 7776, 7776],\n",
       "       [7776, 7776, 7776, 7776, 7776],\n",
       "       [7776, 7776, 7776, 7776, 7776],\n",
       "       [7776, 7776, 7776, 7776, 7776]], dtype=int32)"
      ]
     },
     "execution_count": 127,
     "metadata": {},
     "output_type": "execute_result"
    }
   ],
   "source": [
    "# Elevando la matriz a algun escalar\n",
    "arr_2d ** 5"
   ]
  },
  {
   "cell_type": "code",
   "execution_count": 128,
   "metadata": {},
   "outputs": [
    {
     "data": {
      "text/plain": [
       "array([[2.44948974, 2.44948974, 2.44948974, 2.44948974, 2.44948974],\n",
       "       [2.44948974, 2.44948974, 2.44948974, 2.44948974, 2.44948974],\n",
       "       [2.44948974, 2.44948974, 2.44948974, 2.44948974, 2.44948974],\n",
       "       [2.44948974, 2.44948974, 2.44948974, 2.44948974, 2.44948974],\n",
       "       [2.44948974, 2.44948974, 2.44948974, 2.44948974, 2.44948974]])"
      ]
     },
     "execution_count": 128,
     "metadata": {},
     "output_type": "execute_result"
    }
   ],
   "source": [
    "# La raiz cuadrada a cada elemento de la matriz\n",
    "np.sqrt(arr_2d)"
   ]
  },
  {
   "cell_type": "code",
   "execution_count": 131,
   "metadata": {},
   "outputs": [
    {
     "data": {
      "text/plain": [
       "array([[-0.2794155, -0.2794155, -0.2794155, -0.2794155, -0.2794155],\n",
       "       [-0.2794155, -0.2794155, -0.2794155, -0.2794155, -0.2794155],\n",
       "       [-0.2794155, -0.2794155, -0.2794155, -0.2794155, -0.2794155],\n",
       "       [-0.2794155, -0.2794155, -0.2794155, -0.2794155, -0.2794155],\n",
       "       [-0.2794155, -0.2794155, -0.2794155, -0.2794155, -0.2794155]])"
      ]
     },
     "execution_count": 131,
     "metadata": {},
     "output_type": "execute_result"
    }
   ],
   "source": [
    "# El seno de la matriz\n",
    "sin = np.sin(arr_2d)\n",
    "sin"
   ]
  },
  {
   "cell_type": "code",
   "execution_count": 132,
   "metadata": {},
   "outputs": [
    {
     "data": {
      "text/plain": [
       "array([[0.96017029, 0.96017029, 0.96017029, 0.96017029, 0.96017029],\n",
       "       [0.96017029, 0.96017029, 0.96017029, 0.96017029, 0.96017029],\n",
       "       [0.96017029, 0.96017029, 0.96017029, 0.96017029, 0.96017029],\n",
       "       [0.96017029, 0.96017029, 0.96017029, 0.96017029, 0.96017029],\n",
       "       [0.96017029, 0.96017029, 0.96017029, 0.96017029, 0.96017029]])"
      ]
     },
     "execution_count": 132,
     "metadata": {},
     "output_type": "execute_result"
    }
   ],
   "source": [
    "# El coseno de la matriz\n",
    "cos = np.cos(arr_2d)\n",
    "cos"
   ]
  },
  {
   "cell_type": "code",
   "execution_count": 133,
   "metadata": {},
   "outputs": [
    {
     "data": {
      "text/plain": [
       "array([[1., 1., 1., 1., 1.],\n",
       "       [1., 1., 1., 1., 1.],\n",
       "       [1., 1., 1., 1., 1.],\n",
       "       [1., 1., 1., 1., 1.],\n",
       "       [1., 1., 1., 1., 1.]])"
      ]
     },
     "execution_count": 133,
     "metadata": {},
     "output_type": "execute_result"
    }
   ],
   "source": [
    "# cos^2(matriz) + sen^2(matriz)\n",
    "(cos**2)+(sin**2)"
   ]
  },
  {
   "cell_type": "code",
   "execution_count": 134,
   "metadata": {},
   "outputs": [],
   "source": [
    "# Todas las operaciones matematicas se pueden aplicar a los elementos del tipo array, \n",
    "# ·ya tenga 1, 2, n dimensiones."
   ]
  },
  {
   "cell_type": "code",
   "execution_count": null,
   "metadata": {},
   "outputs": [],
   "source": []
  }
 ],
 "metadata": {
  "kernelspec": {
   "display_name": "Python 3",
   "language": "python",
   "name": "python3"
  },
  "language_info": {
   "codemirror_mode": {
    "name": "ipython",
    "version": 3
   },
   "file_extension": ".py",
   "mimetype": "text/x-python",
   "name": "python",
   "nbconvert_exporter": "python",
   "pygments_lexer": "ipython3",
   "version": "3.8.5"
  }
 },
 "nbformat": 4,
 "nbformat_minor": 4
}

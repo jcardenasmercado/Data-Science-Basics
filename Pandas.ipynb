{
 "cells": [
  {
   "cell_type": "markdown",
   "metadata": {},
   "source": [
    "# PANDAS BASICS"
   ]
  },
  {
   "cell_type": "code",
   "execution_count": 4,
   "metadata": {},
   "outputs": [],
   "source": [
    "import numpy as np # Normalmente se importa junto a pandas\n",
    "import pandas as pd"
   ]
  },
  {
   "cell_type": "markdown",
   "metadata": {},
   "source": [
    "## Series\n",
    "***\n",
    "### pd.Series, Las series de pandas son parecidas a una lista, la gran diferencia es que las series traen un index, ya sea numerico o alguno definido por nosotros, por lo que se comportan como un diccionario clave valor."
   ]
  },
  {
   "cell_type": "code",
   "execution_count": 5,
   "metadata": {},
   "outputs": [
    {
     "data": {
      "text/plain": [
       "santiago         564\n",
       "independencia    543\n",
       "las condes       496\n",
       "providencia      631\n",
       "peñalolen        590\n",
       "dtype: int32"
      ]
     },
     "execution_count": 5,
     "metadata": {},
     "output_type": "execute_result"
    }
   ],
   "source": [
    "\"\"\"\n",
    "    Una serie de pandas es creada de la forma:\n",
    "        pd.Series(data=los datos que contendra, index=opcional, por default numeros desde 0 hasta n)\n",
    "\"\"\"\n",
    "\n",
    "# Creando una serie, por ejemplo número de casos covid-19 por comuna.\n",
    "comunas = ['santiago', 'independencia', 'las condes', 'providencia', 'peñalolen']\n",
    "casos = np.random.randint(435, 700, 5)\n",
    "\n",
    "covid = pd.Series(data=casos, index=comunas)\n",
    "covid\n"
   ]
  },
  {
   "cell_type": "code",
   "execution_count": 6,
   "metadata": {},
   "outputs": [
    {
     "data": {
      "text/plain": [
       "A     0\n",
       "B     4\n",
       "C    78\n",
       "D     1\n",
       "dtype: int64"
      ]
     },
     "execution_count": 6,
     "metadata": {},
     "output_type": "execute_result"
    }
   ],
   "source": [
    "# Para crear una serie no es necesario definir el index y la data previamente, se puede hacer directamente como:\n",
    "serie1 = pd.Series(data=[0,4,78,1], index=['A', 'B', 'C', 'D'])\n",
    "serie1"
   ]
  },
  {
   "cell_type": "code",
   "execution_count": 7,
   "metadata": {},
   "outputs": [
    {
     "data": {
      "text/plain": [
       "Chile        120\n",
       "Perú         151\n",
       "Argentina    451\n",
       "Bolivia      123\n",
       "dtype: int64"
      ]
     },
     "execution_count": 7,
     "metadata": {},
     "output_type": "execute_result"
    }
   ],
   "source": [
    "# Una serie se puede crear directamente desde un diccionario clave valor:\n",
    "dic = {'Chile':120, 'Perú':151, 'Argentina':451, 'Bolivia':123}\n",
    "\n",
    "serie2 = pd.Series(dic)\n",
    "serie2"
   ]
  },
  {
   "cell_type": "code",
   "execution_count": 8,
   "metadata": {},
   "outputs": [
    {
     "data": {
      "text/plain": [
       "0                                              3\n",
       "1                                           Hola\n",
       "2                        <built-in function len>\n",
       "3       incluso puede contener strings complejos\n",
       "4    al no definir un index, este se creará solo\n",
       "5                                           0.15\n",
       "6      <function <lambda> at 0x000001D2398263A0>\n",
       "dtype: object"
      ]
     },
     "execution_count": 8,
     "metadata": {},
     "output_type": "execute_result"
    }
   ],
   "source": [
    "# Además una serie no necesariamente solo contiene números, puede ser mixta e incluso puede albergar funciones\n",
    "\n",
    "serie3 = pd.Series(data=[3,'Hola', len, \"incluso puede contener strings complejos\", \"al no definir un index, este se creará solo\", 0.15, lambda x: x+1])\n",
    "serie3"
   ]
  },
  {
   "cell_type": "code",
   "execution_count": 9,
   "metadata": {},
   "outputs": [
    {
     "name": "stdout",
     "output_type": "stream",
     "text": [
      "0    0.697063\n",
      "1    0.390803\n",
      "2    0.006109\n",
      "3    0.431009\n",
      "4    0.017473\n",
      "dtype: float64\n",
      "\n",
      "--------------\n",
      "\n",
      "4995    0.802692\n",
      "4996    0.357589\n",
      "4997    0.933317\n",
      "4998    0.484792\n",
      "4999    0.528667\n",
      "dtype: float64\n",
      "\n",
      "--------------\n",
      "\n",
      "count    5000.000000\n",
      "mean        0.500987\n",
      "std         0.289280\n",
      "min         0.000137\n",
      "25%         0.249262\n",
      "50%         0.503551\n",
      "75%         0.746633\n",
      "max         0.999712\n",
      "dtype: float64\n"
     ]
    }
   ],
   "source": [
    "# Al trabajar con series muy grandes hay built-in functions que facilitan la tarea de visualizar la serie\n",
    "\n",
    "serie_enorme = pd.Series(np.random.rand(5000))\n",
    "\n",
    "# Visualizando los primeros 5 datos de la serie:\n",
    "print(serie_enorme.head())\n",
    "\n",
    "print(\"\\n--------------\\n\")\n",
    "\n",
    "# Visualizando los ultimos 5 datos de la serie:\n",
    "print(serie_enorme.tail())\n",
    "\n",
    "print(\"\\n--------------\\n\")\n",
    "\n",
    "# Alguna información estadistica de la serie:\n",
    "print(serie_enorme.describe())\n"
   ]
  },
  {
   "cell_type": "code",
   "execution_count": 10,
   "metadata": {},
   "outputs": [
    {
     "name": "stdout",
     "output_type": "stream",
     "text": [
      "0.5286674724415282\n",
      "\n",
      "--------------\n",
      "\n",
      "100.0\n"
     ]
    }
   ],
   "source": [
    "# Las series, al tener un index, los datos se pueden seleccionar de manera muy facil:\n",
    "print(serie_enorme[4999])\n",
    "\n",
    "print(\"\\n--------------\\n\")\n",
    "\n",
    "# Ademas se puede trabajar en base a ellos\n",
    "serie_enorme[4999] = 100\n",
    "print(serie_enorme[4999])"
   ]
  },
  {
   "cell_type": "code",
   "execution_count": 11,
   "metadata": {},
   "outputs": [
    {
     "name": "stdout",
     "output_type": "stream",
     "text": [
      "America    10\n",
      "Europa     20\n",
      "Asia       30\n",
      "Oceania    40\n",
      "dtype: int64\n",
      "\n",
      "--------------\n",
      "\n",
      "Europa     4\n",
      "Oceania    3\n",
      "Asia       2\n",
      "America    1\n",
      "dtype: int64\n",
      "\n",
      "--------------\n",
      "\n",
      "America    11\n",
      "Asia       32\n",
      "Europa     24\n",
      "Oceania    43\n",
      "dtype: int64\n"
     ]
    }
   ],
   "source": [
    "# Además pandas trabaja de manera inteligente cuando se trata de realizar operaciones entre series\n",
    "A = pd.Series(data=[10,20,30,40], index=['America', 'Europa', 'Asia', 'Oceania'])\n",
    "B = pd.Series(data=[4,3,2,1], index=['Europa', 'Oceania', 'Asia', 'America'])\n",
    "\n",
    "print(A)\n",
    "print(\"\\n--------------\\n\")\n",
    "print(B)\n",
    "\n",
    "print(\"\\n--------------\\n\")\n",
    "\n",
    "# Las operaciones entre series se realizan con respecto al index\n",
    "C = A+B\n",
    "print(C)\n"
   ]
  },
  {
   "cell_type": "code",
   "execution_count": 12,
   "metadata": {},
   "outputs": [
    {
     "data": {
      "text/plain": [
       "Africa          NaN\n",
       "America        11.0\n",
       "Asia           32.0\n",
       "Europa          NaN\n",
       "Oceania         NaN\n",
       "Sur America     NaN\n",
       "dtype: float64"
      ]
     },
     "execution_count": 12,
     "metadata": {},
     "output_type": "execute_result"
    }
   ],
   "source": [
    "# Al sumar dos series que tienen index distintos, pandas rellenará con NaN que es el null de pandas\n",
    "A = pd.Series(data=[10,20,30,40], index=['America', 'Europa', 'Asia', 'Oceania'])\n",
    "B = pd.Series(data=[4,3,2,1], index=['Africa', 'Sur America', 'Asia', 'America'])\n",
    "\n",
    "C = A+B\n",
    "C"
   ]
  },
  {
   "cell_type": "code",
   "execution_count": 13,
   "metadata": {},
   "outputs": [
    {
     "data": {
      "text/plain": [
       "America    11.0\n",
       "Asia       32.0\n",
       "dtype: float64"
      ]
     },
     "execution_count": 13,
     "metadata": {},
     "output_type": "execute_result"
    }
   ],
   "source": [
    "\"\"\"\n",
    "    Pandas permite remover las filas con NaN de manera sencilla:\n",
    "         serie.dropna(axis, inplace)\n",
    "             axis=0 a nivel de fila(por defecto), axis=1 a nivel de columna.\n",
    "             inplace sirve para que la operacion se realize sin tener que sobre-escribir la serie, por defecto false\n",
    "\"\"\" \n",
    "C.dropna(axis=0, inplace=True)\n",
    "C"
   ]
  },
  {
   "cell_type": "markdown",
   "metadata": {},
   "source": [
    "## Dataframes\n",
    "***\n",
    "### Los dataframes de pandas son algo asi como una tabla excel pero con muchas ventajas. Los dataframes tienen integracion directa con muchas librerias"
   ]
  },
  {
   "cell_type": "code",
   "execution_count": 57,
   "metadata": {},
   "outputs": [
    {
     "data": {
      "text/html": [
       "<div>\n",
       "<style scoped>\n",
       "    .dataframe tbody tr th:only-of-type {\n",
       "        vertical-align: middle;\n",
       "    }\n",
       "\n",
       "    .dataframe tbody tr th {\n",
       "        vertical-align: top;\n",
       "    }\n",
       "\n",
       "    .dataframe thead th {\n",
       "        text-align: right;\n",
       "    }\n",
       "</style>\n",
       "<table border=\"1\" class=\"dataframe\">\n",
       "  <thead>\n",
       "    <tr style=\"text-align: right;\">\n",
       "      <th></th>\n",
       "      <th>Poblacion</th>\n",
       "      <th>Casos Activos</th>\n",
       "      <th>Asintomaticos</th>\n",
       "      <th>Recuperados</th>\n",
       "      <th>Vacunados</th>\n",
       "    </tr>\n",
       "  </thead>\n",
       "  <tbody>\n",
       "    <tr>\n",
       "      <th>Peñalolen</th>\n",
       "      <td>5422</td>\n",
       "      <td>112</td>\n",
       "      <td>13</td>\n",
       "      <td>541</td>\n",
       "      <td>98</td>\n",
       "    </tr>\n",
       "    <tr>\n",
       "      <th>Lampa</th>\n",
       "      <td>1274</td>\n",
       "      <td>25</td>\n",
       "      <td>2</td>\n",
       "      <td>94</td>\n",
       "      <td>13</td>\n",
       "    </tr>\n",
       "    <tr>\n",
       "      <th>Santiago</th>\n",
       "      <td>9674</td>\n",
       "      <td>341</td>\n",
       "      <td>34</td>\n",
       "      <td>948</td>\n",
       "      <td>253</td>\n",
       "    </tr>\n",
       "    <tr>\n",
       "      <th>La Reina</th>\n",
       "      <td>4428</td>\n",
       "      <td>98</td>\n",
       "      <td>19</td>\n",
       "      <td>246</td>\n",
       "      <td>154</td>\n",
       "    </tr>\n",
       "  </tbody>\n",
       "</table>\n",
       "</div>"
      ],
      "text/plain": [
       "           Poblacion  Casos Activos  Asintomaticos  Recuperados  Vacunados\n",
       "Peñalolen       5422            112             13          541         98\n",
       "Lampa           1274             25              2           94         13\n",
       "Santiago        9674            341             34          948        253\n",
       "La Reina        4428             98             19          246        154"
      ]
     },
     "execution_count": 57,
     "metadata": {},
     "output_type": "execute_result"
    }
   ],
   "source": [
    "\"\"\"\n",
    "    Un dataframe de pandas es creado de la siguiente manera:\n",
    "        pd.DataFrame(data, index, columns)\n",
    "\"\"\"\n",
    "\n",
    "# Son algo asi como series divididas en columnas, normalmente el index se usa por defecto (de 0 a n)\n",
    "\n",
    "index = ['Peñalolen', 'Lampa', 'Santiago', 'La Reina']\n",
    "columnas = ['Poblacion', 'Casos Activos','Asintomaticos', 'Recuperados', 'Vacunados']\n",
    "\n",
    "cantidad_personas = [5422, 1274, 9674, 4428]\n",
    "casos_activos = [112, 25, 341, 98]\n",
    "asintomaticos = [13, 2, 34, 19]\n",
    "recuperados = [541, 94, 948, 246]\n",
    "vacunados = [98, 13, 253, 154]\n",
    "\n",
    "datos = [cantidad_personas, casos_activos, asintomaticos, recuperados, vacunados]\n",
    "datos = np.array(datos).T # Aplicando transpuesta para que los datos tengan consistencia con sus columnas\n",
    "\n",
    "# La transpuesta de una matriz es intercambiar las filas con las columnas.\n",
    "\n",
    "df_covid = pd.DataFrame(data=datos, index=index,columns=columnas)\n",
    "df_covid"
   ]
  },
  {
   "cell_type": "code",
   "execution_count": 37,
   "metadata": {},
   "outputs": [
    {
     "data": {
      "text/plain": [
       "Poblacion        1274\n",
       "Casos Activos      25\n",
       "Asintomaticos       2\n",
       "Recuperados        94\n",
       "Vacunados          13\n",
       "Name: Lampa, dtype: int32"
      ]
     },
     "execution_count": 37,
     "metadata": {},
     "output_type": "execute_result"
    }
   ],
   "source": [
    "# Seleccionando datos de una fila en concreto:\n",
    "df_covid.loc['Lampa']\n",
    "\n"
   ]
  },
  {
   "cell_type": "code",
   "execution_count": 38,
   "metadata": {},
   "outputs": [
    {
     "data": {
      "text/plain": [
       "Peñalolen     98\n",
       "Lampa         13\n",
       "Santiago     253\n",
       "La Reina     154\n",
       "Name: Vacunados, dtype: int32"
      ]
     },
     "execution_count": 38,
     "metadata": {},
     "output_type": "execute_result"
    }
   ],
   "source": [
    "# Seleccionando datos de una columna en concreto:\n",
    "df_covid['Vacunados']"
   ]
  },
  {
   "cell_type": "code",
   "execution_count": 40,
   "metadata": {},
   "outputs": [
    {
     "data": {
      "text/html": [
       "<div>\n",
       "<style scoped>\n",
       "    .dataframe tbody tr th:only-of-type {\n",
       "        vertical-align: middle;\n",
       "    }\n",
       "\n",
       "    .dataframe tbody tr th {\n",
       "        vertical-align: top;\n",
       "    }\n",
       "\n",
       "    .dataframe thead th {\n",
       "        text-align: right;\n",
       "    }\n",
       "</style>\n",
       "<table border=\"1\" class=\"dataframe\">\n",
       "  <thead>\n",
       "    <tr style=\"text-align: right;\">\n",
       "      <th></th>\n",
       "      <th>Poblacion</th>\n",
       "      <th>Casos Activos</th>\n",
       "      <th>Asintomaticos</th>\n",
       "      <th>Recuperados</th>\n",
       "      <th>Vacunados</th>\n",
       "    </tr>\n",
       "  </thead>\n",
       "  <tbody>\n",
       "    <tr>\n",
       "      <th>Lampa</th>\n",
       "      <td>1274</td>\n",
       "      <td>25</td>\n",
       "      <td>2</td>\n",
       "      <td>94</td>\n",
       "      <td>13</td>\n",
       "    </tr>\n",
       "  </tbody>\n",
       "</table>\n",
       "</div>"
      ],
      "text/plain": [
       "       Poblacion  Casos Activos  Asintomaticos  Recuperados  Vacunados\n",
       "Lampa       1274             25              2           94         13"
      ]
     },
     "execution_count": 40,
     "metadata": {},
     "output_type": "execute_result"
    }
   ],
   "source": [
    "# Buscando una fila según una informacion en concreto, ej encontrar informacion sobre quien tiene 13 vacunados:\n",
    "df_covid[df_covid['Vacunados'] == 13]"
   ]
  },
  {
   "cell_type": "code",
   "execution_count": 41,
   "metadata": {},
   "outputs": [
    {
     "data": {
      "text/html": [
       "<div>\n",
       "<style scoped>\n",
       "    .dataframe tbody tr th:only-of-type {\n",
       "        vertical-align: middle;\n",
       "    }\n",
       "\n",
       "    .dataframe tbody tr th {\n",
       "        vertical-align: top;\n",
       "    }\n",
       "\n",
       "    .dataframe thead th {\n",
       "        text-align: right;\n",
       "    }\n",
       "</style>\n",
       "<table border=\"1\" class=\"dataframe\">\n",
       "  <thead>\n",
       "    <tr style=\"text-align: right;\">\n",
       "      <th></th>\n",
       "      <th>Poblacion</th>\n",
       "      <th>Casos Activos</th>\n",
       "      <th>Asintomaticos</th>\n",
       "      <th>Recuperados</th>\n",
       "      <th>Vacunados</th>\n",
       "    </tr>\n",
       "  </thead>\n",
       "  <tbody>\n",
       "    <tr>\n",
       "      <th>Peñalolen</th>\n",
       "      <td>5422</td>\n",
       "      <td>112</td>\n",
       "      <td>13</td>\n",
       "      <td>541</td>\n",
       "      <td>98</td>\n",
       "    </tr>\n",
       "    <tr>\n",
       "      <th>Santiago</th>\n",
       "      <td>9674</td>\n",
       "      <td>341</td>\n",
       "      <td>34</td>\n",
       "      <td>948</td>\n",
       "      <td>253</td>\n",
       "    </tr>\n",
       "    <tr>\n",
       "      <th>La Reina</th>\n",
       "      <td>4428</td>\n",
       "      <td>98</td>\n",
       "      <td>19</td>\n",
       "      <td>246</td>\n",
       "      <td>154</td>\n",
       "    </tr>\n",
       "  </tbody>\n",
       "</table>\n",
       "</div>"
      ],
      "text/plain": [
       "           Poblacion  Casos Activos  Asintomaticos  Recuperados  Vacunados\n",
       "Peñalolen       5422            112             13          541         98\n",
       "Santiago        9674            341             34          948        253\n",
       "La Reina        4428             98             19          246        154"
      ]
     },
     "execution_count": 41,
     "metadata": {},
     "output_type": "execute_result"
    }
   ],
   "source": [
    "# Seleccionando data condicionalmente:\n",
    "df_covid[df_covid['Vacunados'] > 20] # Las comunas con mas de 20 vacunados"
   ]
  },
  {
   "cell_type": "code",
   "execution_count": 44,
   "metadata": {},
   "outputs": [
    {
     "data": {
      "text/html": [
       "<div>\n",
       "<style scoped>\n",
       "    .dataframe tbody tr th:only-of-type {\n",
       "        vertical-align: middle;\n",
       "    }\n",
       "\n",
       "    .dataframe tbody tr th {\n",
       "        vertical-align: top;\n",
       "    }\n",
       "\n",
       "    .dataframe thead th {\n",
       "        text-align: right;\n",
       "    }\n",
       "</style>\n",
       "<table border=\"1\" class=\"dataframe\">\n",
       "  <thead>\n",
       "    <tr style=\"text-align: right;\">\n",
       "      <th></th>\n",
       "      <th>Poblacion</th>\n",
       "      <th>Casos Activos</th>\n",
       "      <th>Asintomaticos</th>\n",
       "      <th>Recuperados</th>\n",
       "      <th>Vacunados</th>\n",
       "    </tr>\n",
       "  </thead>\n",
       "  <tbody>\n",
       "    <tr>\n",
       "      <th>Santiago</th>\n",
       "      <td>9674</td>\n",
       "      <td>341</td>\n",
       "      <td>34</td>\n",
       "      <td>948</td>\n",
       "      <td>253</td>\n",
       "    </tr>\n",
       "  </tbody>\n",
       "</table>\n",
       "</div>"
      ],
      "text/plain": [
       "          Poblacion  Casos Activos  Asintomaticos  Recuperados  Vacunados\n",
       "Santiago       9674            341             34          948        253"
      ]
     },
     "execution_count": 44,
     "metadata": {},
     "output_type": "execute_result"
    }
   ],
   "source": [
    "# Seleccionando data con multiples condiciones logicas:\n",
    "\n",
    "# Comunas con mas de 20 vacunados y mas de 20 asintomaticos\n",
    "df_covid[(df_covid['Vacunados'] > 20) & (df_covid['Asintomaticos'] > 20)] "
   ]
  },
  {
   "cell_type": "code",
   "execution_count": 42,
   "metadata": {},
   "outputs": [
    {
     "data": {
      "text/html": [
       "<div>\n",
       "<style scoped>\n",
       "    .dataframe tbody tr th:only-of-type {\n",
       "        vertical-align: middle;\n",
       "    }\n",
       "\n",
       "    .dataframe tbody tr th {\n",
       "        vertical-align: top;\n",
       "    }\n",
       "\n",
       "    .dataframe thead th {\n",
       "        text-align: right;\n",
       "    }\n",
       "</style>\n",
       "<table border=\"1\" class=\"dataframe\">\n",
       "  <thead>\n",
       "    <tr style=\"text-align: right;\">\n",
       "      <th></th>\n",
       "      <th>Poblacion</th>\n",
       "      <th>Casos Activos</th>\n",
       "      <th>Asintomaticos</th>\n",
       "      <th>Recuperados</th>\n",
       "      <th>Vacunados</th>\n",
       "    </tr>\n",
       "  </thead>\n",
       "  <tbody>\n",
       "    <tr>\n",
       "      <th>Peñalolen</th>\n",
       "      <td>True</td>\n",
       "      <td>True</td>\n",
       "      <td>False</td>\n",
       "      <td>True</td>\n",
       "      <td>True</td>\n",
       "    </tr>\n",
       "    <tr>\n",
       "      <th>Lampa</th>\n",
       "      <td>True</td>\n",
       "      <td>False</td>\n",
       "      <td>False</td>\n",
       "      <td>True</td>\n",
       "      <td>False</td>\n",
       "    </tr>\n",
       "    <tr>\n",
       "      <th>Santiago</th>\n",
       "      <td>True</td>\n",
       "      <td>True</td>\n",
       "      <td>True</td>\n",
       "      <td>True</td>\n",
       "      <td>True</td>\n",
       "    </tr>\n",
       "    <tr>\n",
       "      <th>La Reina</th>\n",
       "      <td>True</td>\n",
       "      <td>True</td>\n",
       "      <td>False</td>\n",
       "      <td>True</td>\n",
       "      <td>True</td>\n",
       "    </tr>\n",
       "  </tbody>\n",
       "</table>\n",
       "</div>"
      ],
      "text/plain": [
       "           Poblacion  Casos Activos  Asintomaticos  Recuperados  Vacunados\n",
       "Peñalolen       True           True          False         True       True\n",
       "Lampa           True          False          False         True      False\n",
       "Santiago        True           True           True         True       True\n",
       "La Reina        True           True          False         True       True"
      ]
     },
     "execution_count": 42,
     "metadata": {},
     "output_type": "execute_result"
    }
   ],
   "source": [
    "# Tambien se puede evaluar el dataframe completo, se retornará una matriz logica\n",
    "df_covid>25"
   ]
  },
  {
   "cell_type": "code",
   "execution_count": 43,
   "metadata": {},
   "outputs": [
    {
     "data": {
      "text/plain": [
       "Peñalolen     True\n",
       "Lampa        False\n",
       "Santiago      True\n",
       "La Reina      True\n",
       "Name: Vacunados, dtype: bool"
      ]
     },
     "execution_count": 43,
     "metadata": {},
     "output_type": "execute_result"
    }
   ],
   "source": [
    "# Evaluando por columna, el resultado será una serie logica\n",
    "df_covid['Vacunados']>20"
   ]
  },
  {
   "cell_type": "code",
   "execution_count": 46,
   "metadata": {},
   "outputs": [
    {
     "data": {
      "text/html": [
       "<div>\n",
       "<style scoped>\n",
       "    .dataframe tbody tr th:only-of-type {\n",
       "        vertical-align: middle;\n",
       "    }\n",
       "\n",
       "    .dataframe tbody tr th {\n",
       "        vertical-align: top;\n",
       "    }\n",
       "\n",
       "    .dataframe thead th {\n",
       "        text-align: right;\n",
       "    }\n",
       "</style>\n",
       "<table border=\"1\" class=\"dataframe\">\n",
       "  <thead>\n",
       "    <tr style=\"text-align: right;\">\n",
       "      <th></th>\n",
       "      <th>index</th>\n",
       "      <th>Poblacion</th>\n",
       "      <th>Casos Activos</th>\n",
       "      <th>Asintomaticos</th>\n",
       "      <th>Recuperados</th>\n",
       "      <th>Vacunados</th>\n",
       "    </tr>\n",
       "  </thead>\n",
       "  <tbody>\n",
       "    <tr>\n",
       "      <th>0</th>\n",
       "      <td>Peñalolen</td>\n",
       "      <td>5422</td>\n",
       "      <td>112</td>\n",
       "      <td>13</td>\n",
       "      <td>541</td>\n",
       "      <td>98</td>\n",
       "    </tr>\n",
       "    <tr>\n",
       "      <th>1</th>\n",
       "      <td>Lampa</td>\n",
       "      <td>1274</td>\n",
       "      <td>25</td>\n",
       "      <td>2</td>\n",
       "      <td>94</td>\n",
       "      <td>13</td>\n",
       "    </tr>\n",
       "    <tr>\n",
       "      <th>2</th>\n",
       "      <td>Santiago</td>\n",
       "      <td>9674</td>\n",
       "      <td>341</td>\n",
       "      <td>34</td>\n",
       "      <td>948</td>\n",
       "      <td>253</td>\n",
       "    </tr>\n",
       "    <tr>\n",
       "      <th>3</th>\n",
       "      <td>La Reina</td>\n",
       "      <td>4428</td>\n",
       "      <td>98</td>\n",
       "      <td>19</td>\n",
       "      <td>246</td>\n",
       "      <td>154</td>\n",
       "    </tr>\n",
       "  </tbody>\n",
       "</table>\n",
       "</div>"
      ],
      "text/plain": [
       "       index  Poblacion  Casos Activos  Asintomaticos  Recuperados  Vacunados\n",
       "0  Peñalolen       5422            112             13          541         98\n",
       "1      Lampa       1274             25              2           94         13\n",
       "2   Santiago       9674            341             34          948        253\n",
       "3   La Reina       4428             98             19          246        154"
      ]
     },
     "execution_count": 46,
     "metadata": {},
     "output_type": "execute_result"
    }
   ],
   "source": [
    "# Si ya no queremos a las comunas como index y queremos establecer uno numerico:\n",
    "df_covid.reset_index()"
   ]
  },
  {
   "cell_type": "code",
   "execution_count": 50,
   "metadata": {},
   "outputs": [
    {
     "data": {
      "text/html": [
       "<div>\n",
       "<style scoped>\n",
       "    .dataframe tbody tr th:only-of-type {\n",
       "        vertical-align: middle;\n",
       "    }\n",
       "\n",
       "    .dataframe tbody tr th {\n",
       "        vertical-align: top;\n",
       "    }\n",
       "\n",
       "    .dataframe thead th {\n",
       "        text-align: right;\n",
       "    }\n",
       "</style>\n",
       "<table border=\"1\" class=\"dataframe\">\n",
       "  <thead>\n",
       "    <tr style=\"text-align: right;\">\n",
       "      <th></th>\n",
       "      <th>Poblacion</th>\n",
       "      <th>Casos Activos</th>\n",
       "      <th>Asintomaticos</th>\n",
       "      <th>Recuperados</th>\n",
       "      <th>Vacunados</th>\n",
       "    </tr>\n",
       "  </thead>\n",
       "  <tbody>\n",
       "    <tr>\n",
       "      <th>0</th>\n",
       "      <td>5422</td>\n",
       "      <td>112</td>\n",
       "      <td>13</td>\n",
       "      <td>541</td>\n",
       "      <td>98</td>\n",
       "    </tr>\n",
       "    <tr>\n",
       "      <th>1</th>\n",
       "      <td>1274</td>\n",
       "      <td>25</td>\n",
       "      <td>2</td>\n",
       "      <td>94</td>\n",
       "      <td>13</td>\n",
       "    </tr>\n",
       "    <tr>\n",
       "      <th>2</th>\n",
       "      <td>9674</td>\n",
       "      <td>341</td>\n",
       "      <td>34</td>\n",
       "      <td>948</td>\n",
       "      <td>253</td>\n",
       "    </tr>\n",
       "    <tr>\n",
       "      <th>3</th>\n",
       "      <td>4428</td>\n",
       "      <td>98</td>\n",
       "      <td>19</td>\n",
       "      <td>246</td>\n",
       "      <td>154</td>\n",
       "    </tr>\n",
       "  </tbody>\n",
       "</table>\n",
       "</div>"
      ],
      "text/plain": [
       "   Poblacion  Casos Activos  Asintomaticos  Recuperados  Vacunados\n",
       "0       5422            112             13          541         98\n",
       "1       1274             25              2           94         13\n",
       "2       9674            341             34          948        253\n",
       "3       4428             98             19          246        154"
      ]
     },
     "execution_count": 50,
     "metadata": {},
     "output_type": "execute_result"
    }
   ],
   "source": [
    "# Si queremos anonimizar el dataframe(ocultar a que comuna pertence la informacion)\n",
    "\n",
    "df_anonimo = df_covid.reset_index() # Estableciendo un index numerico\n",
    "df_anonimo.drop('index', axis=1, inplace=True) # eliminando la columna index\n",
    "df_anonimo\n"
   ]
  },
  {
   "cell_type": "code",
   "execution_count": 61,
   "metadata": {},
   "outputs": [
    {
     "data": {
      "text/html": [
       "<div>\n",
       "<style scoped>\n",
       "    .dataframe tbody tr th:only-of-type {\n",
       "        vertical-align: middle;\n",
       "    }\n",
       "\n",
       "    .dataframe tbody tr th {\n",
       "        vertical-align: top;\n",
       "    }\n",
       "\n",
       "    .dataframe thead th {\n",
       "        text-align: right;\n",
       "    }\n",
       "</style>\n",
       "<table border=\"1\" class=\"dataframe\">\n",
       "  <thead>\n",
       "    <tr style=\"text-align: right;\">\n",
       "      <th></th>\n",
       "      <th></th>\n",
       "      <th>Poblacion</th>\n",
       "      <th>Casos Activos</th>\n",
       "      <th>Asintomaticos</th>\n",
       "      <th>Recuperados</th>\n",
       "      <th>Vacunados</th>\n",
       "    </tr>\n",
       "  </thead>\n",
       "  <tbody>\n",
       "    <tr>\n",
       "      <th rowspan=\"2\" valign=\"top\">zona 1</th>\n",
       "      <th>santiago</th>\n",
       "      <td>5422</td>\n",
       "      <td>112</td>\n",
       "      <td>13</td>\n",
       "      <td>541</td>\n",
       "      <td>98</td>\n",
       "    </tr>\n",
       "    <tr>\n",
       "      <th>independencia</th>\n",
       "      <td>1274</td>\n",
       "      <td>25</td>\n",
       "      <td>2</td>\n",
       "      <td>94</td>\n",
       "      <td>13</td>\n",
       "    </tr>\n",
       "    <tr>\n",
       "      <th rowspan=\"2\" valign=\"top\">zona 2</th>\n",
       "      <th>las condes</th>\n",
       "      <td>9674</td>\n",
       "      <td>341</td>\n",
       "      <td>34</td>\n",
       "      <td>948</td>\n",
       "      <td>253</td>\n",
       "    </tr>\n",
       "    <tr>\n",
       "      <th>providencia</th>\n",
       "      <td>4428</td>\n",
       "      <td>98</td>\n",
       "      <td>19</td>\n",
       "      <td>246</td>\n",
       "      <td>154</td>\n",
       "    </tr>\n",
       "  </tbody>\n",
       "</table>\n",
       "</div>"
      ],
      "text/plain": [
       "                      Poblacion  Casos Activos  Asintomaticos  Recuperados  \\\n",
       "zona 1 santiago            5422            112             13          541   \n",
       "       independencia       1274             25              2           94   \n",
       "zona 2 las condes          9674            341             34          948   \n",
       "       providencia         4428             98             19          246   \n",
       "\n",
       "                      Vacunados  \n",
       "zona 1 santiago              98  \n",
       "       independencia         13  \n",
       "zona 2 las condes           253  \n",
       "       providencia          154  "
      ]
     },
     "execution_count": 61,
     "metadata": {},
     "output_type": "execute_result"
    }
   ],
   "source": [
    "# Tambien se pueden agrupar los index, en este caso las comunas\n",
    "\n",
    "grupos = ['zona 1', 'zona 1', 'zona 2', 'zona 2']\n",
    "agrupado = pd.MultiIndex.from_tuples(list(zip(grupos, comunas)))\n",
    "\n",
    "df_covid.index = agrupado\n",
    "df_covid"
   ]
  },
  {
   "cell_type": "code",
   "execution_count": 62,
   "metadata": {},
   "outputs": [
    {
     "data": {
      "text/html": [
       "<div>\n",
       "<style scoped>\n",
       "    .dataframe tbody tr th:only-of-type {\n",
       "        vertical-align: middle;\n",
       "    }\n",
       "\n",
       "    .dataframe tbody tr th {\n",
       "        vertical-align: top;\n",
       "    }\n",
       "\n",
       "    .dataframe thead th {\n",
       "        text-align: right;\n",
       "    }\n",
       "</style>\n",
       "<table border=\"1\" class=\"dataframe\">\n",
       "  <thead>\n",
       "    <tr style=\"text-align: right;\">\n",
       "      <th></th>\n",
       "      <th>Poblacion</th>\n",
       "      <th>Casos Activos</th>\n",
       "      <th>Asintomaticos</th>\n",
       "      <th>Recuperados</th>\n",
       "      <th>Vacunados</th>\n",
       "    </tr>\n",
       "  </thead>\n",
       "  <tbody>\n",
       "    <tr>\n",
       "      <th>santiago</th>\n",
       "      <td>5422</td>\n",
       "      <td>112</td>\n",
       "      <td>13</td>\n",
       "      <td>541</td>\n",
       "      <td>98</td>\n",
       "    </tr>\n",
       "    <tr>\n",
       "      <th>independencia</th>\n",
       "      <td>1274</td>\n",
       "      <td>25</td>\n",
       "      <td>2</td>\n",
       "      <td>94</td>\n",
       "      <td>13</td>\n",
       "    </tr>\n",
       "  </tbody>\n",
       "</table>\n",
       "</div>"
      ],
      "text/plain": [
       "               Poblacion  Casos Activos  Asintomaticos  Recuperados  Vacunados\n",
       "santiago            5422            112             13          541         98\n",
       "independencia       1274             25              2           94         13"
      ]
     },
     "execution_count": 62,
     "metadata": {},
     "output_type": "execute_result"
    }
   ],
   "source": [
    "# Al tener el dataframe indexado podemos seleccionar un grupo completo:\n",
    "df_covid.xs('zona 1')"
   ]
  },
  {
   "cell_type": "code",
   "execution_count": 64,
   "metadata": {},
   "outputs": [
    {
     "data": {
      "text/plain": [
       "Poblacion        9674\n",
       "Casos Activos     341\n",
       "Asintomaticos      34\n",
       "Recuperados       948\n",
       "Vacunados         253\n",
       "Name: (zona 2, las condes), dtype: int32"
      ]
     },
     "execution_count": 64,
     "metadata": {},
     "output_type": "execute_result"
    }
   ],
   "source": [
    "# Incluso podemos seleccionar los datos de un item en especifico de ese grupo\n",
    "df_covid.xs(['zona 2', 'las condes'])"
   ]
  },
  {
   "cell_type": "markdown",
   "metadata": {},
   "source": [
    "## Data perdida en un DataFrame\n",
    "***"
   ]
  },
  {
   "cell_type": "code",
   "execution_count": 99,
   "metadata": {},
   "outputs": [
    {
     "data": {
      "text/html": [
       "<div>\n",
       "<style scoped>\n",
       "    .dataframe tbody tr th:only-of-type {\n",
       "        vertical-align: middle;\n",
       "    }\n",
       "\n",
       "    .dataframe tbody tr th {\n",
       "        vertical-align: top;\n",
       "    }\n",
       "\n",
       "    .dataframe thead th {\n",
       "        text-align: right;\n",
       "    }\n",
       "</style>\n",
       "<table border=\"1\" class=\"dataframe\">\n",
       "  <thead>\n",
       "    <tr style=\"text-align: right;\">\n",
       "      <th></th>\n",
       "      <th>A</th>\n",
       "      <th>B</th>\n",
       "      <th>C</th>\n",
       "      <th>D</th>\n",
       "    </tr>\n",
       "  </thead>\n",
       "  <tbody>\n",
       "    <tr>\n",
       "      <th>0</th>\n",
       "      <td>45</td>\n",
       "      <td>2</td>\n",
       "      <td>NaN</td>\n",
       "      <td>NaN</td>\n",
       "    </tr>\n",
       "    <tr>\n",
       "      <th>1</th>\n",
       "      <td>39</td>\n",
       "      <td>2</td>\n",
       "      <td>51.0</td>\n",
       "      <td>NaN</td>\n",
       "    </tr>\n",
       "    <tr>\n",
       "      <th>2</th>\n",
       "      <td>12</td>\n",
       "      <td>1</td>\n",
       "      <td>NaN</td>\n",
       "      <td>NaN</td>\n",
       "    </tr>\n",
       "    <tr>\n",
       "      <th>3</th>\n",
       "      <td>27</td>\n",
       "      <td>1</td>\n",
       "      <td>62.0</td>\n",
       "      <td>1.0</td>\n",
       "    </tr>\n",
       "  </tbody>\n",
       "</table>\n",
       "</div>"
      ],
      "text/plain": [
       "    A  B     C    D\n",
       "0  45  2   NaN  NaN\n",
       "1  39  2  51.0  NaN\n",
       "2  12  1   NaN  NaN\n",
       "3  27  1  62.0  1.0"
      ]
     },
     "execution_count": 99,
     "metadata": {},
     "output_type": "execute_result"
    }
   ],
   "source": [
    "# Definiendo un DataFrame sencillo con data perdida\n",
    "df_ld = pd.DataFrame({'A':[45,39,12,27],\n",
    "                     'B':[2, 2, 1, 1],\n",
    "                     'C':[np.nan, 51, np.nan, 62],\n",
    "                     'D':[np.nan, np.nan, np.nan, 1]})\n",
    "df_ld\n"
   ]
  },
  {
   "cell_type": "code",
   "execution_count": 100,
   "metadata": {},
   "outputs": [
    {
     "data": {
      "text/html": [
       "<div>\n",
       "<style scoped>\n",
       "    .dataframe tbody tr th:only-of-type {\n",
       "        vertical-align: middle;\n",
       "    }\n",
       "\n",
       "    .dataframe tbody tr th {\n",
       "        vertical-align: top;\n",
       "    }\n",
       "\n",
       "    .dataframe thead th {\n",
       "        text-align: right;\n",
       "    }\n",
       "</style>\n",
       "<table border=\"1\" class=\"dataframe\">\n",
       "  <thead>\n",
       "    <tr style=\"text-align: right;\">\n",
       "      <th></th>\n",
       "      <th>A</th>\n",
       "      <th>B</th>\n",
       "      <th>C</th>\n",
       "      <th>D</th>\n",
       "    </tr>\n",
       "  </thead>\n",
       "  <tbody>\n",
       "    <tr>\n",
       "      <th>3</th>\n",
       "      <td>27</td>\n",
       "      <td>1</td>\n",
       "      <td>62.0</td>\n",
       "      <td>1.0</td>\n",
       "    </tr>\n",
       "  </tbody>\n",
       "</table>\n",
       "</div>"
      ],
      "text/plain": [
       "    A  B     C    D\n",
       "3  27  1  62.0  1.0"
      ]
     },
     "execution_count": 100,
     "metadata": {},
     "output_type": "execute_result"
    }
   ],
   "source": [
    "# Se pueden eliminar todas las filas con valores NaN facilmente con pandas\n",
    "df_ld.dropna()\n",
    "# En este caso convervará solamente la ultima fila, la cual no tiene valores nulos en alguna de sus columnas"
   ]
  },
  {
   "cell_type": "code",
   "execution_count": 101,
   "metadata": {},
   "outputs": [
    {
     "data": {
      "text/html": [
       "<div>\n",
       "<style scoped>\n",
       "    .dataframe tbody tr th:only-of-type {\n",
       "        vertical-align: middle;\n",
       "    }\n",
       "\n",
       "    .dataframe tbody tr th {\n",
       "        vertical-align: top;\n",
       "    }\n",
       "\n",
       "    .dataframe thead th {\n",
       "        text-align: right;\n",
       "    }\n",
       "</style>\n",
       "<table border=\"1\" class=\"dataframe\">\n",
       "  <thead>\n",
       "    <tr style=\"text-align: right;\">\n",
       "      <th></th>\n",
       "      <th>A</th>\n",
       "      <th>B</th>\n",
       "      <th>C</th>\n",
       "      <th>D</th>\n",
       "    </tr>\n",
       "  </thead>\n",
       "  <tbody>\n",
       "    <tr>\n",
       "      <th>0</th>\n",
       "      <td>45</td>\n",
       "      <td>2</td>\n",
       "      <td>NaN</td>\n",
       "      <td>NaN</td>\n",
       "    </tr>\n",
       "    <tr>\n",
       "      <th>1</th>\n",
       "      <td>39</td>\n",
       "      <td>2</td>\n",
       "      <td>51.0</td>\n",
       "      <td>NaN</td>\n",
       "    </tr>\n",
       "    <tr>\n",
       "      <th>2</th>\n",
       "      <td>12</td>\n",
       "      <td>1</td>\n",
       "      <td>NaN</td>\n",
       "      <td>NaN</td>\n",
       "    </tr>\n",
       "    <tr>\n",
       "      <th>3</th>\n",
       "      <td>27</td>\n",
       "      <td>1</td>\n",
       "      <td>62.0</td>\n",
       "      <td>1.0</td>\n",
       "    </tr>\n",
       "  </tbody>\n",
       "</table>\n",
       "</div>"
      ],
      "text/plain": [
       "    A  B     C    D\n",
       "0  45  2   NaN  NaN\n",
       "1  39  2  51.0  NaN\n",
       "2  12  1   NaN  NaN\n",
       "3  27  1  62.0  1.0"
      ]
     },
     "execution_count": 101,
     "metadata": {},
     "output_type": "execute_result"
    }
   ],
   "source": [
    "# Si a la funcion no se le pasa inplace=True o se sobre escribe el dataframe, los cambios no tendrán efecto\n",
    "df_ld"
   ]
  },
  {
   "cell_type": "code",
   "execution_count": 102,
   "metadata": {},
   "outputs": [
    {
     "data": {
      "text/html": [
       "<div>\n",
       "<style scoped>\n",
       "    .dataframe tbody tr th:only-of-type {\n",
       "        vertical-align: middle;\n",
       "    }\n",
       "\n",
       "    .dataframe tbody tr th {\n",
       "        vertical-align: top;\n",
       "    }\n",
       "\n",
       "    .dataframe thead th {\n",
       "        text-align: right;\n",
       "    }\n",
       "</style>\n",
       "<table border=\"1\" class=\"dataframe\">\n",
       "  <thead>\n",
       "    <tr style=\"text-align: right;\">\n",
       "      <th></th>\n",
       "      <th>A</th>\n",
       "      <th>B</th>\n",
       "      <th>C</th>\n",
       "    </tr>\n",
       "  </thead>\n",
       "  <tbody>\n",
       "    <tr>\n",
       "      <th>0</th>\n",
       "      <td>45</td>\n",
       "      <td>2</td>\n",
       "      <td>NaN</td>\n",
       "    </tr>\n",
       "    <tr>\n",
       "      <th>1</th>\n",
       "      <td>39</td>\n",
       "      <td>2</td>\n",
       "      <td>51.0</td>\n",
       "    </tr>\n",
       "    <tr>\n",
       "      <th>2</th>\n",
       "      <td>12</td>\n",
       "      <td>1</td>\n",
       "      <td>NaN</td>\n",
       "    </tr>\n",
       "    <tr>\n",
       "      <th>3</th>\n",
       "      <td>27</td>\n",
       "      <td>1</td>\n",
       "      <td>62.0</td>\n",
       "    </tr>\n",
       "  </tbody>\n",
       "</table>\n",
       "</div>"
      ],
      "text/plain": [
       "    A  B     C\n",
       "0  45  2   NaN\n",
       "1  39  2  51.0\n",
       "2  12  1   NaN\n",
       "3  27  1  62.0"
      ]
     },
     "execution_count": 102,
     "metadata": {},
     "output_type": "execute_result"
    }
   ],
   "source": [
    "# Normalmente al trabajar con data perdida en los dataframe, las columnas con mucha data perdida simplemente se eliminan\n",
    "df_ld.drop('D', axis=1, inplace=True)\n",
    "df_ld"
   ]
  },
  {
   "cell_type": "code",
   "execution_count": 108,
   "metadata": {},
   "outputs": [
    {
     "data": {
      "text/html": [
       "<div>\n",
       "<style scoped>\n",
       "    .dataframe tbody tr th:only-of-type {\n",
       "        vertical-align: middle;\n",
       "    }\n",
       "\n",
       "    .dataframe tbody tr th {\n",
       "        vertical-align: top;\n",
       "    }\n",
       "\n",
       "    .dataframe thead th {\n",
       "        text-align: right;\n",
       "    }\n",
       "</style>\n",
       "<table border=\"1\" class=\"dataframe\">\n",
       "  <thead>\n",
       "    <tr style=\"text-align: right;\">\n",
       "      <th></th>\n",
       "      <th>A</th>\n",
       "      <th>B</th>\n",
       "      <th>C</th>\n",
       "    </tr>\n",
       "  </thead>\n",
       "  <tbody>\n",
       "    <tr>\n",
       "      <th>0</th>\n",
       "      <td>45</td>\n",
       "      <td>2</td>\n",
       "      <td>56.5</td>\n",
       "    </tr>\n",
       "    <tr>\n",
       "      <th>1</th>\n",
       "      <td>39</td>\n",
       "      <td>2</td>\n",
       "      <td>51.0</td>\n",
       "    </tr>\n",
       "    <tr>\n",
       "      <th>2</th>\n",
       "      <td>12</td>\n",
       "      <td>1</td>\n",
       "      <td>56.5</td>\n",
       "    </tr>\n",
       "    <tr>\n",
       "      <th>3</th>\n",
       "      <td>27</td>\n",
       "      <td>1</td>\n",
       "      <td>62.0</td>\n",
       "    </tr>\n",
       "  </tbody>\n",
       "</table>\n",
       "</div>"
      ],
      "text/plain": [
       "    A  B     C\n",
       "0  45  2  56.5\n",
       "1  39  2  51.0\n",
       "2  12  1  56.5\n",
       "3  27  1  62.0"
      ]
     },
     "execution_count": 108,
     "metadata": {},
     "output_type": "execute_result"
    }
   ],
   "source": [
    "# En el caso de la columna C el 50% de los datos están perdidos, por esta vez solucionaremos eso con respecto a los otros datos\n",
    "\"\"\"\n",
    "    Para \"arreglar\" el dataframe rellenaremos la columna C con el promedio de los datos en esta columna,\n",
    "    se utilizará .fillna() para rellenar los valores nulos con alguno que nosotros estimemos\n",
    "\"\"\"\n",
    "\n",
    "df_ld['C'].fillna(value=df_ld['C'].mean(), inplace=True) # .mean() sirve para determinar el promedio\n",
    "df_ld\n"
   ]
  },
  {
   "cell_type": "markdown",
   "metadata": {},
   "source": [
    "## Pandas built in plots\n",
    "***"
   ]
  },
  {
   "cell_type": "markdown",
   "metadata": {},
   "source": [
    "#### Pandas posee la habilidad de hacer diferentes graficos de facil manera, para esto se usará el siguiente dataframe:\n",
    "https://www.kaggle.com/gpreda/covid-world-vaccination-progress?select=country_vaccinations.csv"
   ]
  },
  {
   "cell_type": "code",
   "execution_count": 122,
   "metadata": {},
   "outputs": [
    {
     "data": {
      "text/html": [
       "<div>\n",
       "<style scoped>\n",
       "    .dataframe tbody tr th:only-of-type {\n",
       "        vertical-align: middle;\n",
       "    }\n",
       "\n",
       "    .dataframe tbody tr th {\n",
       "        vertical-align: top;\n",
       "    }\n",
       "\n",
       "    .dataframe thead th {\n",
       "        text-align: right;\n",
       "    }\n",
       "</style>\n",
       "<table border=\"1\" class=\"dataframe\">\n",
       "  <thead>\n",
       "    <tr style=\"text-align: right;\">\n",
       "      <th></th>\n",
       "      <th>country</th>\n",
       "      <th>iso_code</th>\n",
       "      <th>date</th>\n",
       "      <th>total_vaccinations</th>\n",
       "      <th>people_vaccinated</th>\n",
       "      <th>people_fully_vaccinated</th>\n",
       "      <th>daily_vaccinations_raw</th>\n",
       "      <th>daily_vaccinations</th>\n",
       "      <th>total_vaccinations_per_hundred</th>\n",
       "      <th>people_vaccinated_per_hundred</th>\n",
       "      <th>people_fully_vaccinated_per_hundred</th>\n",
       "      <th>daily_vaccinations_per_million</th>\n",
       "      <th>vaccines</th>\n",
       "      <th>source_name</th>\n",
       "      <th>source_website</th>\n",
       "    </tr>\n",
       "  </thead>\n",
       "  <tbody>\n",
       "    <tr>\n",
       "      <th>0</th>\n",
       "      <td>Albania</td>\n",
       "      <td>ALB</td>\n",
       "      <td>2021-01-10</td>\n",
       "      <td>0.0</td>\n",
       "      <td>0.0</td>\n",
       "      <td>NaN</td>\n",
       "      <td>NaN</td>\n",
       "      <td>NaN</td>\n",
       "      <td>0.00</td>\n",
       "      <td>0.00</td>\n",
       "      <td>NaN</td>\n",
       "      <td>NaN</td>\n",
       "      <td>Pfizer/BioNTech</td>\n",
       "      <td>Ministry of Health</td>\n",
       "      <td>https://shendetesia.gov.al/covid19-ministria-e...</td>\n",
       "    </tr>\n",
       "    <tr>\n",
       "      <th>1</th>\n",
       "      <td>Albania</td>\n",
       "      <td>ALB</td>\n",
       "      <td>2021-01-11</td>\n",
       "      <td>NaN</td>\n",
       "      <td>NaN</td>\n",
       "      <td>NaN</td>\n",
       "      <td>NaN</td>\n",
       "      <td>64.0</td>\n",
       "      <td>NaN</td>\n",
       "      <td>NaN</td>\n",
       "      <td>NaN</td>\n",
       "      <td>22.0</td>\n",
       "      <td>Pfizer/BioNTech</td>\n",
       "      <td>Ministry of Health</td>\n",
       "      <td>https://shendetesia.gov.al/covid19-ministria-e...</td>\n",
       "    </tr>\n",
       "    <tr>\n",
       "      <th>2</th>\n",
       "      <td>Albania</td>\n",
       "      <td>ALB</td>\n",
       "      <td>2021-01-12</td>\n",
       "      <td>128.0</td>\n",
       "      <td>128.0</td>\n",
       "      <td>NaN</td>\n",
       "      <td>NaN</td>\n",
       "      <td>64.0</td>\n",
       "      <td>0.00</td>\n",
       "      <td>0.00</td>\n",
       "      <td>NaN</td>\n",
       "      <td>22.0</td>\n",
       "      <td>Pfizer/BioNTech</td>\n",
       "      <td>Ministry of Health</td>\n",
       "      <td>https://shendetesia.gov.al/covid19-ministria-e...</td>\n",
       "    </tr>\n",
       "    <tr>\n",
       "      <th>3</th>\n",
       "      <td>Albania</td>\n",
       "      <td>ALB</td>\n",
       "      <td>2021-01-13</td>\n",
       "      <td>188.0</td>\n",
       "      <td>188.0</td>\n",
       "      <td>NaN</td>\n",
       "      <td>60.0</td>\n",
       "      <td>63.0</td>\n",
       "      <td>0.01</td>\n",
       "      <td>0.01</td>\n",
       "      <td>NaN</td>\n",
       "      <td>22.0</td>\n",
       "      <td>Pfizer/BioNTech</td>\n",
       "      <td>Ministry of Health</td>\n",
       "      <td>https://shendetesia.gov.al/covid19-ministria-e...</td>\n",
       "    </tr>\n",
       "    <tr>\n",
       "      <th>4</th>\n",
       "      <td>Albania</td>\n",
       "      <td>ALB</td>\n",
       "      <td>2021-01-14</td>\n",
       "      <td>266.0</td>\n",
       "      <td>266.0</td>\n",
       "      <td>NaN</td>\n",
       "      <td>78.0</td>\n",
       "      <td>66.0</td>\n",
       "      <td>0.01</td>\n",
       "      <td>0.01</td>\n",
       "      <td>NaN</td>\n",
       "      <td>23.0</td>\n",
       "      <td>Pfizer/BioNTech</td>\n",
       "      <td>Ministry of Health</td>\n",
       "      <td>https://shendetesia.gov.al/covid19-ministria-e...</td>\n",
       "    </tr>\n",
       "  </tbody>\n",
       "</table>\n",
       "</div>"
      ],
      "text/plain": [
       "   country iso_code        date  total_vaccinations  people_vaccinated  \\\n",
       "0  Albania      ALB  2021-01-10                 0.0                0.0   \n",
       "1  Albania      ALB  2021-01-11                 NaN                NaN   \n",
       "2  Albania      ALB  2021-01-12               128.0              128.0   \n",
       "3  Albania      ALB  2021-01-13               188.0              188.0   \n",
       "4  Albania      ALB  2021-01-14               266.0              266.0   \n",
       "\n",
       "   people_fully_vaccinated  daily_vaccinations_raw  daily_vaccinations  \\\n",
       "0                      NaN                     NaN                 NaN   \n",
       "1                      NaN                     NaN                64.0   \n",
       "2                      NaN                     NaN                64.0   \n",
       "3                      NaN                    60.0                63.0   \n",
       "4                      NaN                    78.0                66.0   \n",
       "\n",
       "   total_vaccinations_per_hundred  people_vaccinated_per_hundred  \\\n",
       "0                            0.00                           0.00   \n",
       "1                             NaN                            NaN   \n",
       "2                            0.00                           0.00   \n",
       "3                            0.01                           0.01   \n",
       "4                            0.01                           0.01   \n",
       "\n",
       "   people_fully_vaccinated_per_hundred  daily_vaccinations_per_million  \\\n",
       "0                                  NaN                             NaN   \n",
       "1                                  NaN                            22.0   \n",
       "2                                  NaN                            22.0   \n",
       "3                                  NaN                            22.0   \n",
       "4                                  NaN                            23.0   \n",
       "\n",
       "          vaccines         source_name  \\\n",
       "0  Pfizer/BioNTech  Ministry of Health   \n",
       "1  Pfizer/BioNTech  Ministry of Health   \n",
       "2  Pfizer/BioNTech  Ministry of Health   \n",
       "3  Pfizer/BioNTech  Ministry of Health   \n",
       "4  Pfizer/BioNTech  Ministry of Health   \n",
       "\n",
       "                                      source_website  \n",
       "0  https://shendetesia.gov.al/covid19-ministria-e...  \n",
       "1  https://shendetesia.gov.al/covid19-ministria-e...  \n",
       "2  https://shendetesia.gov.al/covid19-ministria-e...  \n",
       "3  https://shendetesia.gov.al/covid19-ministria-e...  \n",
       "4  https://shendetesia.gov.al/covid19-ministria-e...  "
      ]
     },
     "execution_count": 122,
     "metadata": {},
     "output_type": "execute_result"
    }
   ],
   "source": [
    "df = pd.read_csv('dataframes/country_vaccinations.csv')\n",
    "df.head()"
   ]
  },
  {
   "cell_type": "code",
   "execution_count": 144,
   "metadata": {},
   "outputs": [
    {
     "data": {
      "text/plain": [
       "<AxesSubplot:xlabel='country'>"
      ]
     },
     "execution_count": 144,
     "metadata": {},
     "output_type": "execute_result"
    },
    {
     "data": {
      "image/png": "[encoded data removed]",
      "text/plain": [
       "<Figure size 720x432 with 1 Axes>"
      ]
     },
     "metadata": {
      "needs_background": "light"
     },
     "output_type": "display_data"
    }
   ],
   "source": [
    "# Grafico de vacunas aplicadas por pais\n",
    "df.plot(x='country', y='people_vaccinated', figsize=(10,6))"
   ]
  },
  {
   "cell_type": "markdown",
   "metadata": {},
   "source": [
    "### Los graficos de dataframes tipo pandas normalmente se hacen con matplotlib y seaborn, por lo que, los graficos se verán mas a fondo en el siguiente notebook"
   ]
  },
  {
   "cell_type": "code",
   "execution_count": null,
   "metadata": {},
   "outputs": [],
   "source": []
  }
 ],
 "metadata": {
  "kernelspec": {
   "display_name": "Python 3",
   "language": "python",
   "name": "python3"
  },
  "language_info": {
   "codemirror_mode": {
    "name": "ipython",
    "version": 3
   },
   "file_extension": ".py",
   "mimetype": "text/x-python",
   "name": "python",
   "nbconvert_exporter": "python",
   "pygments_lexer": "ipython3",
   "version": "3.8.5"
  }
 },
 "nbformat": 4,
 "nbformat_minor": 4
}
